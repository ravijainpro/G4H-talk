{
  "nbformat": 4,
  "nbformat_minor": 0,
  "metadata": {
    "colab": {
      "name": "Copy of Chat bot",
      "provenance": [],
      "collapsed_sections": []
    },
    "kernelspec": {
      "name": "python3",
      "display_name": "Python 3"
    },
    "accelerator": "GPU",
    "widgets": {
      "application/vnd.jupyter.widget-state+json": {
        "e70186be8eb24ebd803b602e45e8c5f8": {
          "model_module": "@jupyter-widgets/controls",
          "model_name": "HBoxModel",
          "state": {
            "_view_name": "HBoxView",
            "_dom_classes": [],
            "_model_name": "HBoxModel",
            "_view_module": "@jupyter-widgets/controls",
            "_model_module_version": "1.5.0",
            "_view_count": null,
            "_view_module_version": "1.5.0",
            "box_style": "",
            "layout": "IPY_MODEL_3b58264c5164461b9b576b74e88def45",
            "_model_module": "@jupyter-widgets/controls",
            "children": [
              "IPY_MODEL_49cd6ef1e9c841f8be95c429fca7cf86",
              "IPY_MODEL_8a9b1c1564f04730b20e7a6419565016"
            ]
          }
        },
        "3b58264c5164461b9b576b74e88def45": {
          "model_module": "@jupyter-widgets/base",
          "model_name": "LayoutModel",
          "state": {
            "_view_name": "LayoutView",
            "grid_template_rows": null,
            "right": null,
            "justify_content": null,
            "_view_module": "@jupyter-widgets/base",
            "overflow": null,
            "_model_module_version": "1.2.0",
            "_view_count": null,
            "flex_flow": null,
            "width": null,
            "min_width": null,
            "border": null,
            "align_items": null,
            "bottom": null,
            "_model_module": "@jupyter-widgets/base",
            "top": null,
            "grid_column": null,
            "overflow_y": null,
            "overflow_x": null,
            "grid_auto_flow": null,
            "grid_area": null,
            "grid_template_columns": null,
            "flex": null,
            "_model_name": "LayoutModel",
            "justify_items": null,
            "grid_row": null,
            "max_height": null,
            "align_content": null,
            "visibility": null,
            "align_self": null,
            "height": null,
            "min_height": null,
            "padding": null,
            "grid_auto_rows": null,
            "grid_gap": null,
            "max_width": null,
            "order": null,
            "_view_module_version": "1.2.0",
            "grid_template_areas": null,
            "object_position": null,
            "object_fit": null,
            "grid_auto_columns": null,
            "margin": null,
            "display": null,
            "left": null
          }
        },
        "49cd6ef1e9c841f8be95c429fca7cf86": {
          "model_module": "@jupyter-widgets/controls",
          "model_name": "IntProgressModel",
          "state": {
            "_view_name": "ProgressView",
            "style": "IPY_MODEL_57129ae42d96456ca63f85669e1f365a",
            "_dom_classes": [],
            "description": "Downloading",
            "_model_name": "IntProgressModel",
            "bar_style": "success",
            "max": 273,
            "_view_module": "@jupyter-widgets/controls",
            "_model_module_version": "1.5.0",
            "value": 273,
            "_view_count": null,
            "_view_module_version": "1.5.0",
            "orientation": "horizontal",
            "min": 0,
            "description_tooltip": null,
            "_model_module": "@jupyter-widgets/controls",
            "layout": "IPY_MODEL_c4ab2bb4d150416abbf80c01a4f255b9"
          }
        },
        "8a9b1c1564f04730b20e7a6419565016": {
          "model_module": "@jupyter-widgets/controls",
          "model_name": "HTMLModel",
          "state": {
            "_view_name": "HTMLView",
            "style": "IPY_MODEL_e609d32c1a934047bf4e3399f99f0a6a",
            "_dom_classes": [],
            "description": "",
            "_model_name": "HTMLModel",
            "placeholder": "​",
            "_view_module": "@jupyter-widgets/controls",
            "_model_module_version": "1.5.0",
            "value": "100% 273/273 [00:00&lt;00:00, 11.5kB/s]",
            "_view_count": null,
            "_view_module_version": "1.5.0",
            "description_tooltip": null,
            "_model_module": "@jupyter-widgets/controls",
            "layout": "IPY_MODEL_7ff51f1dc5994f2a97658cc5e783a834"
          }
        },
        "57129ae42d96456ca63f85669e1f365a": {
          "model_module": "@jupyter-widgets/controls",
          "model_name": "ProgressStyleModel",
          "state": {
            "_view_name": "StyleView",
            "_model_name": "ProgressStyleModel",
            "description_width": "initial",
            "_view_module": "@jupyter-widgets/base",
            "_model_module_version": "1.5.0",
            "_view_count": null,
            "_view_module_version": "1.2.0",
            "bar_color": null,
            "_model_module": "@jupyter-widgets/controls"
          }
        },
        "c4ab2bb4d150416abbf80c01a4f255b9": {
          "model_module": "@jupyter-widgets/base",
          "model_name": "LayoutModel",
          "state": {
            "_view_name": "LayoutView",
            "grid_template_rows": null,
            "right": null,
            "justify_content": null,
            "_view_module": "@jupyter-widgets/base",
            "overflow": null,
            "_model_module_version": "1.2.0",
            "_view_count": null,
            "flex_flow": null,
            "width": null,
            "min_width": null,
            "border": null,
            "align_items": null,
            "bottom": null,
            "_model_module": "@jupyter-widgets/base",
            "top": null,
            "grid_column": null,
            "overflow_y": null,
            "overflow_x": null,
            "grid_auto_flow": null,
            "grid_area": null,
            "grid_template_columns": null,
            "flex": null,
            "_model_name": "LayoutModel",
            "justify_items": null,
            "grid_row": null,
            "max_height": null,
            "align_content": null,
            "visibility": null,
            "align_self": null,
            "height": null,
            "min_height": null,
            "padding": null,
            "grid_auto_rows": null,
            "grid_gap": null,
            "max_width": null,
            "order": null,
            "_view_module_version": "1.2.0",
            "grid_template_areas": null,
            "object_position": null,
            "object_fit": null,
            "grid_auto_columns": null,
            "margin": null,
            "display": null,
            "left": null
          }
        },
        "e609d32c1a934047bf4e3399f99f0a6a": {
          "model_module": "@jupyter-widgets/controls",
          "model_name": "DescriptionStyleModel",
          "state": {
            "_view_name": "StyleView",
            "_model_name": "DescriptionStyleModel",
            "description_width": "",
            "_view_module": "@jupyter-widgets/base",
            "_model_module_version": "1.5.0",
            "_view_count": null,
            "_view_module_version": "1.2.0",
            "_model_module": "@jupyter-widgets/controls"
          }
        },
        "7ff51f1dc5994f2a97658cc5e783a834": {
          "model_module": "@jupyter-widgets/base",
          "model_name": "LayoutModel",
          "state": {
            "_view_name": "LayoutView",
            "grid_template_rows": null,
            "right": null,
            "justify_content": null,
            "_view_module": "@jupyter-widgets/base",
            "overflow": null,
            "_model_module_version": "1.2.0",
            "_view_count": null,
            "flex_flow": null,
            "width": null,
            "min_width": null,
            "border": null,
            "align_items": null,
            "bottom": null,
            "_model_module": "@jupyter-widgets/base",
            "top": null,
            "grid_column": null,
            "overflow_y": null,
            "overflow_x": null,
            "grid_auto_flow": null,
            "grid_area": null,
            "grid_template_columns": null,
            "flex": null,
            "_model_name": "LayoutModel",
            "justify_items": null,
            "grid_row": null,
            "max_height": null,
            "align_content": null,
            "visibility": null,
            "align_self": null,
            "height": null,
            "min_height": null,
            "padding": null,
            "grid_auto_rows": null,
            "grid_gap": null,
            "max_width": null,
            "order": null,
            "_view_module_version": "1.2.0",
            "grid_template_areas": null,
            "object_position": null,
            "object_fit": null,
            "grid_auto_columns": null,
            "margin": null,
            "display": null,
            "left": null
          }
        },
        "5e78c6e805fa4596a972db2790775220": {
          "model_module": "@jupyter-widgets/controls",
          "model_name": "HBoxModel",
          "state": {
            "_view_name": "HBoxView",
            "_dom_classes": [],
            "_model_name": "HBoxModel",
            "_view_module": "@jupyter-widgets/controls",
            "_model_module_version": "1.5.0",
            "_view_count": null,
            "_view_module_version": "1.5.0",
            "box_style": "",
            "layout": "IPY_MODEL_b4db8c744050439e9930cb075df49981",
            "_model_module": "@jupyter-widgets/controls",
            "children": [
              "IPY_MODEL_e4a140d160384efd885ab6cba3d37e14",
              "IPY_MODEL_ce00b1d185204ad0b8b80eb63b02a828"
            ]
          }
        },
        "b4db8c744050439e9930cb075df49981": {
          "model_module": "@jupyter-widgets/base",
          "model_name": "LayoutModel",
          "state": {
            "_view_name": "LayoutView",
            "grid_template_rows": null,
            "right": null,
            "justify_content": null,
            "_view_module": "@jupyter-widgets/base",
            "overflow": null,
            "_model_module_version": "1.2.0",
            "_view_count": null,
            "flex_flow": null,
            "width": null,
            "min_width": null,
            "border": null,
            "align_items": null,
            "bottom": null,
            "_model_module": "@jupyter-widgets/base",
            "top": null,
            "grid_column": null,
            "overflow_y": null,
            "overflow_x": null,
            "grid_auto_flow": null,
            "grid_area": null,
            "grid_template_columns": null,
            "flex": null,
            "_model_name": "LayoutModel",
            "justify_items": null,
            "grid_row": null,
            "max_height": null,
            "align_content": null,
            "visibility": null,
            "align_self": null,
            "height": null,
            "min_height": null,
            "padding": null,
            "grid_auto_rows": null,
            "grid_gap": null,
            "max_width": null,
            "order": null,
            "_view_module_version": "1.2.0",
            "grid_template_areas": null,
            "object_position": null,
            "object_fit": null,
            "grid_auto_columns": null,
            "margin": null,
            "display": null,
            "left": null
          }
        },
        "e4a140d160384efd885ab6cba3d37e14": {
          "model_module": "@jupyter-widgets/controls",
          "model_name": "IntProgressModel",
          "state": {
            "_view_name": "ProgressView",
            "style": "IPY_MODEL_78a378b19a54446790a94cf59f4a4a65",
            "_dom_classes": [],
            "description": "Downloading",
            "_model_name": "IntProgressModel",
            "bar_style": "success",
            "max": 478750579,
            "_view_module": "@jupyter-widgets/controls",
            "_model_module_version": "1.5.0",
            "value": 478750579,
            "_view_count": null,
            "_view_module_version": "1.5.0",
            "orientation": "horizontal",
            "min": 0,
            "description_tooltip": null,
            "_model_module": "@jupyter-widgets/controls",
            "layout": "IPY_MODEL_f2719cae154744cc97165c33924bf285"
          }
        },
        "ce00b1d185204ad0b8b80eb63b02a828": {
          "model_module": "@jupyter-widgets/controls",
          "model_name": "HTMLModel",
          "state": {
            "_view_name": "HTMLView",
            "style": "IPY_MODEL_74d4d679caa44d06b1a16d315916605c",
            "_dom_classes": [],
            "description": "",
            "_model_name": "HTMLModel",
            "placeholder": "​",
            "_view_module": "@jupyter-widgets/controls",
            "_model_module_version": "1.5.0",
            "value": "100% 479M/479M [00:11&lt;00:00, 41.2MB/s]",
            "_view_count": null,
            "_view_module_version": "1.5.0",
            "description_tooltip": null,
            "_model_module": "@jupyter-widgets/controls",
            "layout": "IPY_MODEL_c52c29130dbf419b9e83a5643f5c9d69"
          }
        },
        "78a378b19a54446790a94cf59f4a4a65": {
          "model_module": "@jupyter-widgets/controls",
          "model_name": "ProgressStyleModel",
          "state": {
            "_view_name": "StyleView",
            "_model_name": "ProgressStyleModel",
            "description_width": "initial",
            "_view_module": "@jupyter-widgets/base",
            "_model_module_version": "1.5.0",
            "_view_count": null,
            "_view_module_version": "1.2.0",
            "bar_color": null,
            "_model_module": "@jupyter-widgets/controls"
          }
        },
        "f2719cae154744cc97165c33924bf285": {
          "model_module": "@jupyter-widgets/base",
          "model_name": "LayoutModel",
          "state": {
            "_view_name": "LayoutView",
            "grid_template_rows": null,
            "right": null,
            "justify_content": null,
            "_view_module": "@jupyter-widgets/base",
            "overflow": null,
            "_model_module_version": "1.2.0",
            "_view_count": null,
            "flex_flow": null,
            "width": null,
            "min_width": null,
            "border": null,
            "align_items": null,
            "bottom": null,
            "_model_module": "@jupyter-widgets/base",
            "top": null,
            "grid_column": null,
            "overflow_y": null,
            "overflow_x": null,
            "grid_auto_flow": null,
            "grid_area": null,
            "grid_template_columns": null,
            "flex": null,
            "_model_name": "LayoutModel",
            "justify_items": null,
            "grid_row": null,
            "max_height": null,
            "align_content": null,
            "visibility": null,
            "align_self": null,
            "height": null,
            "min_height": null,
            "padding": null,
            "grid_auto_rows": null,
            "grid_gap": null,
            "max_width": null,
            "order": null,
            "_view_module_version": "1.2.0",
            "grid_template_areas": null,
            "object_position": null,
            "object_fit": null,
            "grid_auto_columns": null,
            "margin": null,
            "display": null,
            "left": null
          }
        },
        "74d4d679caa44d06b1a16d315916605c": {
          "model_module": "@jupyter-widgets/controls",
          "model_name": "DescriptionStyleModel",
          "state": {
            "_view_name": "StyleView",
            "_model_name": "DescriptionStyleModel",
            "description_width": "",
            "_view_module": "@jupyter-widgets/base",
            "_model_module_version": "1.5.0",
            "_view_count": null,
            "_view_module_version": "1.2.0",
            "_model_module": "@jupyter-widgets/controls"
          }
        },
        "c52c29130dbf419b9e83a5643f5c9d69": {
          "model_module": "@jupyter-widgets/base",
          "model_name": "LayoutModel",
          "state": {
            "_view_name": "LayoutView",
            "grid_template_rows": null,
            "right": null,
            "justify_content": null,
            "_view_module": "@jupyter-widgets/base",
            "overflow": null,
            "_model_module_version": "1.2.0",
            "_view_count": null,
            "flex_flow": null,
            "width": null,
            "min_width": null,
            "border": null,
            "align_items": null,
            "bottom": null,
            "_model_module": "@jupyter-widgets/base",
            "top": null,
            "grid_column": null,
            "overflow_y": null,
            "overflow_x": null,
            "grid_auto_flow": null,
            "grid_area": null,
            "grid_template_columns": null,
            "flex": null,
            "_model_name": "LayoutModel",
            "justify_items": null,
            "grid_row": null,
            "max_height": null,
            "align_content": null,
            "visibility": null,
            "align_self": null,
            "height": null,
            "min_height": null,
            "padding": null,
            "grid_auto_rows": null,
            "grid_gap": null,
            "max_width": null,
            "order": null,
            "_view_module_version": "1.2.0",
            "grid_template_areas": null,
            "object_position": null,
            "object_fit": null,
            "grid_auto_columns": null,
            "margin": null,
            "display": null,
            "left": null
          }
        },
        "86e34883b26d4aef9d2b9dfa348aff2c": {
          "model_module": "@jupyter-widgets/controls",
          "model_name": "HBoxModel",
          "state": {
            "_view_name": "HBoxView",
            "_dom_classes": [],
            "_model_name": "HBoxModel",
            "_view_module": "@jupyter-widgets/controls",
            "_model_module_version": "1.5.0",
            "_view_count": null,
            "_view_module_version": "1.5.0",
            "box_style": "",
            "layout": "IPY_MODEL_77941dfe2619482383ee2178a028186d",
            "_model_module": "@jupyter-widgets/controls",
            "children": [
              "IPY_MODEL_3ce6288e43624b70ba0100341100a020",
              "IPY_MODEL_17895e1e1ca84c19ba4f60d71053dc23"
            ]
          }
        },
        "77941dfe2619482383ee2178a028186d": {
          "model_module": "@jupyter-widgets/base",
          "model_name": "LayoutModel",
          "state": {
            "_view_name": "LayoutView",
            "grid_template_rows": null,
            "right": null,
            "justify_content": null,
            "_view_module": "@jupyter-widgets/base",
            "overflow": null,
            "_model_module_version": "1.2.0",
            "_view_count": null,
            "flex_flow": null,
            "width": null,
            "min_width": null,
            "border": null,
            "align_items": null,
            "bottom": null,
            "_model_module": "@jupyter-widgets/base",
            "top": null,
            "grid_column": null,
            "overflow_y": null,
            "overflow_x": null,
            "grid_auto_flow": null,
            "grid_area": null,
            "grid_template_columns": null,
            "flex": null,
            "_model_name": "LayoutModel",
            "justify_items": null,
            "grid_row": null,
            "max_height": null,
            "align_content": null,
            "visibility": null,
            "align_self": null,
            "height": null,
            "min_height": null,
            "padding": null,
            "grid_auto_rows": null,
            "grid_gap": null,
            "max_width": null,
            "order": null,
            "_view_module_version": "1.2.0",
            "grid_template_areas": null,
            "object_position": null,
            "object_fit": null,
            "grid_auto_columns": null,
            "margin": null,
            "display": null,
            "left": null
          }
        },
        "3ce6288e43624b70ba0100341100a020": {
          "model_module": "@jupyter-widgets/controls",
          "model_name": "IntProgressModel",
          "state": {
            "_view_name": "ProgressView",
            "style": "IPY_MODEL_577b1d0531514444ab6040efef349396",
            "_dom_classes": [],
            "description": "Downloading",
            "_model_name": "IntProgressModel",
            "bar_style": "success",
            "max": 815973,
            "_view_module": "@jupyter-widgets/controls",
            "_model_module_version": "1.5.0",
            "value": 815973,
            "_view_count": null,
            "_view_module_version": "1.5.0",
            "orientation": "horizontal",
            "min": 0,
            "description_tooltip": null,
            "_model_module": "@jupyter-widgets/controls",
            "layout": "IPY_MODEL_13a8099519dd4858900d407996a8dc5e"
          }
        },
        "17895e1e1ca84c19ba4f60d71053dc23": {
          "model_module": "@jupyter-widgets/controls",
          "model_name": "HTMLModel",
          "state": {
            "_view_name": "HTMLView",
            "style": "IPY_MODEL_cfa95a504d75498ba74c46ed6405454d",
            "_dom_classes": [],
            "description": "",
            "_model_name": "HTMLModel",
            "placeholder": "​",
            "_view_module": "@jupyter-widgets/controls",
            "_model_module_version": "1.5.0",
            "value": "100% 816k/816k [00:00&lt;00:00, 2.63MB/s]",
            "_view_count": null,
            "_view_module_version": "1.5.0",
            "description_tooltip": null,
            "_model_module": "@jupyter-widgets/controls",
            "layout": "IPY_MODEL_188240027bc946b6ad2f9ab99b11e39c"
          }
        },
        "577b1d0531514444ab6040efef349396": {
          "model_module": "@jupyter-widgets/controls",
          "model_name": "ProgressStyleModel",
          "state": {
            "_view_name": "StyleView",
            "_model_name": "ProgressStyleModel",
            "description_width": "initial",
            "_view_module": "@jupyter-widgets/base",
            "_model_module_version": "1.5.0",
            "_view_count": null,
            "_view_module_version": "1.2.0",
            "bar_color": null,
            "_model_module": "@jupyter-widgets/controls"
          }
        },
        "13a8099519dd4858900d407996a8dc5e": {
          "model_module": "@jupyter-widgets/base",
          "model_name": "LayoutModel",
          "state": {
            "_view_name": "LayoutView",
            "grid_template_rows": null,
            "right": null,
            "justify_content": null,
            "_view_module": "@jupyter-widgets/base",
            "overflow": null,
            "_model_module_version": "1.2.0",
            "_view_count": null,
            "flex_flow": null,
            "width": null,
            "min_width": null,
            "border": null,
            "align_items": null,
            "bottom": null,
            "_model_module": "@jupyter-widgets/base",
            "top": null,
            "grid_column": null,
            "overflow_y": null,
            "overflow_x": null,
            "grid_auto_flow": null,
            "grid_area": null,
            "grid_template_columns": null,
            "flex": null,
            "_model_name": "LayoutModel",
            "justify_items": null,
            "grid_row": null,
            "max_height": null,
            "align_content": null,
            "visibility": null,
            "align_self": null,
            "height": null,
            "min_height": null,
            "padding": null,
            "grid_auto_rows": null,
            "grid_gap": null,
            "max_width": null,
            "order": null,
            "_view_module_version": "1.2.0",
            "grid_template_areas": null,
            "object_position": null,
            "object_fit": null,
            "grid_auto_columns": null,
            "margin": null,
            "display": null,
            "left": null
          }
        },
        "cfa95a504d75498ba74c46ed6405454d": {
          "model_module": "@jupyter-widgets/controls",
          "model_name": "DescriptionStyleModel",
          "state": {
            "_view_name": "StyleView",
            "_model_name": "DescriptionStyleModel",
            "description_width": "",
            "_view_module": "@jupyter-widgets/base",
            "_model_module_version": "1.5.0",
            "_view_count": null,
            "_view_module_version": "1.2.0",
            "_model_module": "@jupyter-widgets/controls"
          }
        },
        "188240027bc946b6ad2f9ab99b11e39c": {
          "model_module": "@jupyter-widgets/base",
          "model_name": "LayoutModel",
          "state": {
            "_view_name": "LayoutView",
            "grid_template_rows": null,
            "right": null,
            "justify_content": null,
            "_view_module": "@jupyter-widgets/base",
            "overflow": null,
            "_model_module_version": "1.2.0",
            "_view_count": null,
            "flex_flow": null,
            "width": null,
            "min_width": null,
            "border": null,
            "align_items": null,
            "bottom": null,
            "_model_module": "@jupyter-widgets/base",
            "top": null,
            "grid_column": null,
            "overflow_y": null,
            "overflow_x": null,
            "grid_auto_flow": null,
            "grid_area": null,
            "grid_template_columns": null,
            "flex": null,
            "_model_name": "LayoutModel",
            "justify_items": null,
            "grid_row": null,
            "max_height": null,
            "align_content": null,
            "visibility": null,
            "align_self": null,
            "height": null,
            "min_height": null,
            "padding": null,
            "grid_auto_rows": null,
            "grid_gap": null,
            "max_width": null,
            "order": null,
            "_view_module_version": "1.2.0",
            "grid_template_areas": null,
            "object_position": null,
            "object_fit": null,
            "grid_auto_columns": null,
            "margin": null,
            "display": null,
            "left": null
          }
        },
        "289f023e67904d1681c8678b38daee4a": {
          "model_module": "@jupyter-widgets/controls",
          "model_name": "HBoxModel",
          "state": {
            "_view_name": "HBoxView",
            "_dom_classes": [],
            "_model_name": "HBoxModel",
            "_view_module": "@jupyter-widgets/controls",
            "_model_module_version": "1.5.0",
            "_view_count": null,
            "_view_module_version": "1.5.0",
            "box_style": "",
            "layout": "IPY_MODEL_9ebf5a0cd65e430082db09885673a4c2",
            "_model_module": "@jupyter-widgets/controls",
            "children": [
              "IPY_MODEL_cae67c5459cc45da8519f33a5cd70675",
              "IPY_MODEL_3b16592e33d8418e9be745b605803943"
            ]
          }
        },
        "9ebf5a0cd65e430082db09885673a4c2": {
          "model_module": "@jupyter-widgets/base",
          "model_name": "LayoutModel",
          "state": {
            "_view_name": "LayoutView",
            "grid_template_rows": null,
            "right": null,
            "justify_content": null,
            "_view_module": "@jupyter-widgets/base",
            "overflow": null,
            "_model_module_version": "1.2.0",
            "_view_count": null,
            "flex_flow": null,
            "width": null,
            "min_width": null,
            "border": null,
            "align_items": null,
            "bottom": null,
            "_model_module": "@jupyter-widgets/base",
            "top": null,
            "grid_column": null,
            "overflow_y": null,
            "overflow_x": null,
            "grid_auto_flow": null,
            "grid_area": null,
            "grid_template_columns": null,
            "flex": null,
            "_model_name": "LayoutModel",
            "justify_items": null,
            "grid_row": null,
            "max_height": null,
            "align_content": null,
            "visibility": null,
            "align_self": null,
            "height": null,
            "min_height": null,
            "padding": null,
            "grid_auto_rows": null,
            "grid_gap": null,
            "max_width": null,
            "order": null,
            "_view_module_version": "1.2.0",
            "grid_template_areas": null,
            "object_position": null,
            "object_fit": null,
            "grid_auto_columns": null,
            "margin": null,
            "display": null,
            "left": null
          }
        },
        "cae67c5459cc45da8519f33a5cd70675": {
          "model_module": "@jupyter-widgets/controls",
          "model_name": "IntProgressModel",
          "state": {
            "_view_name": "ProgressView",
            "style": "IPY_MODEL_05fe50c4d7ef41dbb72180ad32dd8be9",
            "_dom_classes": [],
            "description": "Downloading",
            "_model_name": "IntProgressModel",
            "bar_style": "success",
            "max": 458495,
            "_view_module": "@jupyter-widgets/controls",
            "_model_module_version": "1.5.0",
            "value": 458495,
            "_view_count": null,
            "_view_module_version": "1.5.0",
            "orientation": "horizontal",
            "min": 0,
            "description_tooltip": null,
            "_model_module": "@jupyter-widgets/controls",
            "layout": "IPY_MODEL_844771290c6141549082d57777993199"
          }
        },
        "3b16592e33d8418e9be745b605803943": {
          "model_module": "@jupyter-widgets/controls",
          "model_name": "HTMLModel",
          "state": {
            "_view_name": "HTMLView",
            "style": "IPY_MODEL_bd448f3045fd41deb628d0d80b677525",
            "_dom_classes": [],
            "description": "",
            "_model_name": "HTMLModel",
            "placeholder": "​",
            "_view_module": "@jupyter-widgets/controls",
            "_model_module_version": "1.5.0",
            "value": "100% 458k/458k [00:00&lt;00:00, 1.80MB/s]",
            "_view_count": null,
            "_view_module_version": "1.5.0",
            "description_tooltip": null,
            "_model_module": "@jupyter-widgets/controls",
            "layout": "IPY_MODEL_f653443cd7d54b04ad17d2f4013b61bc"
          }
        },
        "05fe50c4d7ef41dbb72180ad32dd8be9": {
          "model_module": "@jupyter-widgets/controls",
          "model_name": "ProgressStyleModel",
          "state": {
            "_view_name": "StyleView",
            "_model_name": "ProgressStyleModel",
            "description_width": "initial",
            "_view_module": "@jupyter-widgets/base",
            "_model_module_version": "1.5.0",
            "_view_count": null,
            "_view_module_version": "1.2.0",
            "bar_color": null,
            "_model_module": "@jupyter-widgets/controls"
          }
        },
        "844771290c6141549082d57777993199": {
          "model_module": "@jupyter-widgets/base",
          "model_name": "LayoutModel",
          "state": {
            "_view_name": "LayoutView",
            "grid_template_rows": null,
            "right": null,
            "justify_content": null,
            "_view_module": "@jupyter-widgets/base",
            "overflow": null,
            "_model_module_version": "1.2.0",
            "_view_count": null,
            "flex_flow": null,
            "width": null,
            "min_width": null,
            "border": null,
            "align_items": null,
            "bottom": null,
            "_model_module": "@jupyter-widgets/base",
            "top": null,
            "grid_column": null,
            "overflow_y": null,
            "overflow_x": null,
            "grid_auto_flow": null,
            "grid_area": null,
            "grid_template_columns": null,
            "flex": null,
            "_model_name": "LayoutModel",
            "justify_items": null,
            "grid_row": null,
            "max_height": null,
            "align_content": null,
            "visibility": null,
            "align_self": null,
            "height": null,
            "min_height": null,
            "padding": null,
            "grid_auto_rows": null,
            "grid_gap": null,
            "max_width": null,
            "order": null,
            "_view_module_version": "1.2.0",
            "grid_template_areas": null,
            "object_position": null,
            "object_fit": null,
            "grid_auto_columns": null,
            "margin": null,
            "display": null,
            "left": null
          }
        },
        "bd448f3045fd41deb628d0d80b677525": {
          "model_module": "@jupyter-widgets/controls",
          "model_name": "DescriptionStyleModel",
          "state": {
            "_view_name": "StyleView",
            "_model_name": "DescriptionStyleModel",
            "description_width": "",
            "_view_module": "@jupyter-widgets/base",
            "_model_module_version": "1.5.0",
            "_view_count": null,
            "_view_module_version": "1.2.0",
            "_model_module": "@jupyter-widgets/controls"
          }
        },
        "f653443cd7d54b04ad17d2f4013b61bc": {
          "model_module": "@jupyter-widgets/base",
          "model_name": "LayoutModel",
          "state": {
            "_view_name": "LayoutView",
            "grid_template_rows": null,
            "right": null,
            "justify_content": null,
            "_view_module": "@jupyter-widgets/base",
            "overflow": null,
            "_model_module_version": "1.2.0",
            "_view_count": null,
            "flex_flow": null,
            "width": null,
            "min_width": null,
            "border": null,
            "align_items": null,
            "bottom": null,
            "_model_module": "@jupyter-widgets/base",
            "top": null,
            "grid_column": null,
            "overflow_y": null,
            "overflow_x": null,
            "grid_auto_flow": null,
            "grid_area": null,
            "grid_template_columns": null,
            "flex": null,
            "_model_name": "LayoutModel",
            "justify_items": null,
            "grid_row": null,
            "max_height": null,
            "align_content": null,
            "visibility": null,
            "align_self": null,
            "height": null,
            "min_height": null,
            "padding": null,
            "grid_auto_rows": null,
            "grid_gap": null,
            "max_width": null,
            "order": null,
            "_view_module_version": "1.2.0",
            "grid_template_areas": null,
            "object_position": null,
            "object_fit": null,
            "grid_auto_columns": null,
            "margin": null,
            "display": null,
            "left": null
          }
        }
      }
    }
  },
  "cells": [
    {
      "cell_type": "code",
      "metadata": {
        "id": "W34IhM2An4Ux",
        "colab_type": "code",
        "outputId": "995f69a6-fda1-45bf-bb4a-9bc153fe59d1",
        "colab": {
          "base_uri": "https://localhost:8080/",
          "height": 591
        }
      },
      "source": [
        "!pip install transformers spacy ftfy pytorch-ignite"
      ],
      "execution_count": 3,
      "outputs": [
        {
          "output_type": "stream",
          "text": [
            "Requirement already satisfied: transformers in /usr/local/lib/python3.6/dist-packages (2.2.2)\n",
            "Requirement already satisfied: spacy in /usr/local/lib/python3.6/dist-packages (2.1.9)\n",
            "Requirement already satisfied: ftfy in /usr/local/lib/python3.6/dist-packages (5.6)\n",
            "Requirement already satisfied: pytorch-ignite in /usr/local/lib/python3.6/dist-packages (0.2.1)\n",
            "Requirement already satisfied: tqdm in /usr/local/lib/python3.6/dist-packages (from transformers) (4.28.1)\n",
            "Requirement already satisfied: requests in /usr/local/lib/python3.6/dist-packages (from transformers) (2.21.0)\n",
            "Requirement already satisfied: sentencepiece in /usr/local/lib/python3.6/dist-packages (from transformers) (0.1.83)\n",
            "Requirement already satisfied: sacremoses in /usr/local/lib/python3.6/dist-packages (from transformers) (0.0.35)\n",
            "Requirement already satisfied: regex in /usr/local/lib/python3.6/dist-packages (from transformers) (2019.12.9)\n",
            "Requirement already satisfied: boto3 in /usr/local/lib/python3.6/dist-packages (from transformers) (1.10.36)\n",
            "Requirement already satisfied: numpy in /usr/local/lib/python3.6/dist-packages (from transformers) (1.17.4)\n",
            "Requirement already satisfied: thinc<7.1.0,>=7.0.8 in /usr/local/lib/python3.6/dist-packages (from spacy) (7.0.8)\n",
            "Requirement already satisfied: wasabi<1.1.0,>=0.2.0 in /usr/local/lib/python3.6/dist-packages (from spacy) (0.4.2)\n",
            "Requirement already satisfied: preshed<2.1.0,>=2.0.1 in /usr/local/lib/python3.6/dist-packages (from spacy) (2.0.1)\n",
            "Requirement already satisfied: cymem<2.1.0,>=2.0.2 in /usr/local/lib/python3.6/dist-packages (from spacy) (2.0.3)\n",
            "Requirement already satisfied: srsly<1.1.0,>=0.0.6 in /usr/local/lib/python3.6/dist-packages (from spacy) (0.2.0)\n",
            "Requirement already satisfied: murmurhash<1.1.0,>=0.28.0 in /usr/local/lib/python3.6/dist-packages (from spacy) (1.0.2)\n",
            "Requirement already satisfied: plac<1.0.0,>=0.9.6 in /usr/local/lib/python3.6/dist-packages (from spacy) (0.9.6)\n",
            "Requirement already satisfied: blis<0.3.0,>=0.2.2 in /usr/local/lib/python3.6/dist-packages (from spacy) (0.2.4)\n",
            "Requirement already satisfied: wcwidth in /usr/local/lib/python3.6/dist-packages (from ftfy) (0.1.7)\n",
            "Requirement already satisfied: torch in /usr/local/lib/python3.6/dist-packages (from pytorch-ignite) (1.3.1)\n",
            "Requirement already satisfied: idna<2.9,>=2.5 in /usr/local/lib/python3.6/dist-packages (from requests->transformers) (2.8)\n",
            "Requirement already satisfied: certifi>=2017.4.17 in /usr/local/lib/python3.6/dist-packages (from requests->transformers) (2019.11.28)\n",
            "Requirement already satisfied: urllib3<1.25,>=1.21.1 in /usr/local/lib/python3.6/dist-packages (from requests->transformers) (1.24.3)\n",
            "Requirement already satisfied: chardet<3.1.0,>=3.0.2 in /usr/local/lib/python3.6/dist-packages (from requests->transformers) (3.0.4)\n",
            "Requirement already satisfied: six in /usr/local/lib/python3.6/dist-packages (from sacremoses->transformers) (1.12.0)\n",
            "Requirement already satisfied: click in /usr/local/lib/python3.6/dist-packages (from sacremoses->transformers) (7.0)\n",
            "Requirement already satisfied: joblib in /usr/local/lib/python3.6/dist-packages (from sacremoses->transformers) (0.14.1)\n",
            "Requirement already satisfied: botocore<1.14.0,>=1.13.36 in /usr/local/lib/python3.6/dist-packages (from boto3->transformers) (1.13.36)\n",
            "Requirement already satisfied: s3transfer<0.3.0,>=0.2.0 in /usr/local/lib/python3.6/dist-packages (from boto3->transformers) (0.2.1)\n",
            "Requirement already satisfied: jmespath<1.0.0,>=0.7.1 in /usr/local/lib/python3.6/dist-packages (from boto3->transformers) (0.9.4)\n",
            "Requirement already satisfied: docutils<0.16,>=0.10 in /usr/local/lib/python3.6/dist-packages (from botocore<1.14.0,>=1.13.36->boto3->transformers) (0.15.2)\n",
            "Requirement already satisfied: python-dateutil<2.8.1,>=2.1; python_version >= \"2.7\" in /usr/local/lib/python3.6/dist-packages (from botocore<1.14.0,>=1.13.36->boto3->transformers) (2.6.1)\n"
          ],
          "name": "stdout"
        }
      ]
    },
    {
      "cell_type": "code",
      "metadata": {
        "id": "yzjCnjRXKM5a",
        "colab_type": "code",
        "colab": {}
      },
      "source": [
        "import requests, json"
      ],
      "execution_count": 0,
      "outputs": []
    },
    {
      "cell_type": "code",
      "metadata": {
        "id": "jC42mJa4J47F",
        "colab_type": "code",
        "colab": {}
      },
      "source": [
        "PERSONACHAT_URL = \"https://s3.amazonaws.com/datasets.huggingface.co/personachat/personachat_self_original.json\"\n",
        "data = requests.get(PERSONACHAT_URL).json()\n",
        "#dataset = json.loads(requests.get(PERSONACHAT_URL))"
      ],
      "execution_count": 0,
      "outputs": []
    },
    {
      "cell_type": "code",
      "metadata": {
        "id": "4c8x_yblKDg9",
        "colab_type": "code",
        "outputId": "e81d8f49-a9c6-4274-d4d3-9a739d623ae7",
        "colab": {
          "base_uri": "https://localhost:8080/",
          "height": 1000
        }
      },
      "source": [
        "data['train'][0]"
      ],
      "execution_count": 6,
      "outputs": [
        {
          "output_type": "execute_result",
          "data": {
            "text/plain": [
              "{'personality': ['i like to remodel homes .',\n",
              "  'i like to go hunting .',\n",
              "  'i like to shoot a bow .',\n",
              "  'my favorite holiday is halloween .'],\n",
              " 'utterances': [{'candidates': ['my mom was single with 3 boys , so we never left the projects .',\n",
              "    'i try to wear all black every day . it makes me feel comfortable .',\n",
              "    'well nursing stresses you out so i wish luck with sister',\n",
              "    'yeah just want to pick up nba nfl getting old',\n",
              "    'i really like celine dion . what about you ?',\n",
              "    'no . i live near farms .',\n",
              "    \"i wish i had a daughter , i'm a boy mom . they're beautiful boys though still lucky\",\n",
              "    'yeah when i get bored i play gone with the wind my favorite movie .',\n",
              "    \"hi how are you ? i'm eating dinner with my hubby and 2 kids .\",\n",
              "    'were you married to your high school sweetheart ? i was .',\n",
              "    'that is great to hear ! are you a competitive rider ?',\n",
              "    \"hi , i'm doing ok . i'm a banker . how about you ?\",\n",
              "    \"i'm 5 years old\",\n",
              "    'hi there . how are you today ?',\n",
              "    'i totally understand how stressful that can be .',\n",
              "    'yeah sometimes you do not know what you are actually watching',\n",
              "    'mother taught me to cook ! we are looking for an exterminator .',\n",
              "    'i enjoy romantic movie . what is your favorite season ? mine is summer .',\n",
              "    'editing photos takes a lot of work .',\n",
              "    'you must be very fast . hunting is one of my favorite hobbies .'],\n",
              "   'history': [\"hi , how are you doing ? i'm getting ready to do some cheetah chasing to stay in shape .\"]},\n",
              "  {'candidates': ['hello i am doing well how are you ?',\n",
              "    'll something like that . do you play games ?',\n",
              "    'does anything give you relief ? i hate taking medicine for mine .',\n",
              "    'i decorate cakes at a local bakery ! and you ?',\n",
              "    'do you eat lots of meat',\n",
              "    'i am so weird that i like to collect people and cats',\n",
              "    'how are your typing skills ?',\n",
              "    'yeah . i am headed to the gym in a bit to weight lift .',\n",
              "    'yeah you have plenty of time',\n",
              "    'metal is my favorite , but i can accept that people listen to country . haha',\n",
              "    \"that's why you desire to be controlled . let me control you person one .\",\n",
              "    'two dogs they are the best , how about you ?',\n",
              "    'you do art ? what kind of art do you do ?',\n",
              "    'i love watching baseball outdoors on sunny days .',\n",
              "    'oh i see . do you ever think about moving ? i do , it is what i want .',\n",
              "    'sure . i wish it were winter . the sun really hurts my blue eyes .',\n",
              "    'are we pretending to play tennis',\n",
              "    'i am rich and have all of my dreams fulfilled already',\n",
              "    'they tire me so , i probably sleep about 10 hrs a day because of them .',\n",
              "    'i also remodel homes when i am not out bow hunting .'],\n",
              "   'history': [\"hi , how are you doing ? i'm getting ready to do some cheetah chasing to stay in shape .\",\n",
              "    'you must be very fast . hunting is one of my favorite hobbies .',\n",
              "    'i am ! for my hobby i like to do canning or some whittling .']},\n",
              "  {'candidates': ['yes they do but i say no to them lol',\n",
              "    'i have trouble getting along with family .',\n",
              "    'i live in texas , what kind of stuff do you do in toronto ?',\n",
              "    \"that's so unique ! veganism and line dancing usually don't mix !\",\n",
              "    \"no , it isn't that big . do you travel a lot\",\n",
              "    \"that's because they are real ; what do you do for work ?\",\n",
              "    'i am lazy all day lol . my mom wants me to get a job and move out',\n",
              "    'i was born on arbor day , so plant a tree in my name',\n",
              "    'okay , i should not tell you , its against the rules but my name is sarah , call me o',\n",
              "    'hello how are u tonight',\n",
              "    \"cool . . . my parents love country music that's why i hate it\",\n",
              "    'i am an accountant . what do you do ?',\n",
              "    'what do your parents do ? my dad is a mechanic .',\n",
              "    'how are you liking it ?',\n",
              "    'i really am too . great talking to you too .',\n",
              "    'cool . whats it like working there ?',\n",
              "    \"one daughter . she's pre med\",\n",
              "    \"no and all men is taller than me why can't i find a man to dance with\",\n",
              "    'i live in utah , and my family live in england , so i understand',\n",
              "    \"that's awesome . do you have a favorite season or time of year ?\"],\n",
              "   'history': [\"hi , how are you doing ? i'm getting ready to do some cheetah chasing to stay in shape .\",\n",
              "    'you must be very fast . hunting is one of my favorite hobbies .',\n",
              "    'i am ! for my hobby i like to do canning or some whittling .',\n",
              "    'i also remodel homes when i am not out bow hunting .',\n",
              "    \"that's neat . when i was in high school i placed 6th in 100m dash !\"]},\n",
              "  {'candidates': ['not really , it is just a small local radio station . what about you , what do you do ?',\n",
              "    'me too ! people always say i am so organized',\n",
              "    'niagra fall is where our honeymoon will be',\n",
              "    'yes ! i know how to be by myself . you ? i do not need new friends . you ?',\n",
              "    'll . my dad is a police officer and they have a sports team too',\n",
              "    'oh you should get your license',\n",
              "    'okay you have a good day nice talking with you !',\n",
              "    'i play some ball for a living .',\n",
              "    'me too ! my asthma is really embarrassing and makes me uncomfortable around others .',\n",
              "    'netflix and good food is the best . maybe lobster , my favorite seafood . where ya from ?',\n",
              "    'oh nice . why is that ?',\n",
              "    'sounds fun ! i helped my wife with health issues , too .',\n",
              "    \"i am a night owl . i think i'll play the piano a little before bed .\",\n",
              "    'just the real ones , not a big game person',\n",
              "    \"i could be the next mrs . adam levine . please , i'll buy you 10 mangoes .\",\n",
              "    \"do you like dogs i've usually to talk\",\n",
              "    'what did she teach ? my mom stayed home with my and my 3 older siblings',\n",
              "    'neither do i , i am just a photographer , and that is already a ot of energy',\n",
              "    'no , i say i am average at 5 4 . are you vertically challenged ?',\n",
              "    'what is your favorite meat to eat ?'],\n",
              "   'history': [\"hi , how are you doing ? i'm getting ready to do some cheetah chasing to stay in shape .\",\n",
              "    'you must be very fast . hunting is one of my favorite hobbies .',\n",
              "    'i am ! for my hobby i like to do canning or some whittling .',\n",
              "    'i also remodel homes when i am not out bow hunting .',\n",
              "    \"that's neat . when i was in high school i placed 6th in 100m dash !\",\n",
              "    \"that's awesome . do you have a favorite season or time of year ?\",\n",
              "    'i do not . but i do have a favorite meat since that is all i eat exclusively .']},\n",
              "  {'candidates': ['i am listening to system of a down , i wonder if your cat would like them',\n",
              "    'i absolutely agree , women are just as strong and capable .',\n",
              "    'in denmark with my grandma . what about you ?',\n",
              "    'i live in backcountry michigan . i encounter many sick , injured wildlife daily !',\n",
              "    'i am great and you',\n",
              "    'i am a big foodie , i love to bake . how about you ?',\n",
              "    'dance ! ! i win alot of mone and trifies . . what do u do four fun ?',\n",
              "    'do you do any sports ? swimming helps me keep my energy up .',\n",
              "    'they are excellent for the environment .',\n",
              "    'i am going to catch some fish and think this over . thanks dog !',\n",
              "    'i am doing well ! how about you ?',\n",
              "    'i like old cars better new cars are to expensive',\n",
              "    \"i've met bill once . he seems like a nice guy .\",\n",
              "    \"oh that is amazing . i've been trying to find someone who can help him\",\n",
              "    'i am in my early 30s , what you do for living',\n",
              "    'so , you are in college ? i took foreign language in college .',\n",
              "    'i just turned 30 the other day',\n",
              "    'what a coincidence i live up in anchorage',\n",
              "    'that would be interesting . i am going to be a forensic psychologist .',\n",
              "    'i like chicken or macaroni and cheese .'],\n",
              "   'history': [\"hi , how are you doing ? i'm getting ready to do some cheetah chasing to stay in shape .\",\n",
              "    'you must be very fast . hunting is one of my favorite hobbies .',\n",
              "    'i am ! for my hobby i like to do canning or some whittling .',\n",
              "    'i also remodel homes when i am not out bow hunting .',\n",
              "    \"that's neat . when i was in high school i placed 6th in 100m dash !\",\n",
              "    \"that's awesome . do you have a favorite season or time of year ?\",\n",
              "    'i do not . but i do have a favorite meat since that is all i eat exclusively .',\n",
              "    'what is your favorite meat to eat ?',\n",
              "    'i would have to say its prime rib . do you have any favorite foods ?']},\n",
              "  {'candidates': ['that sounds nice . do you make your own ?',\n",
              "    'i had a simple lunch so that i make my supper heavy after beach .',\n",
              "    'nice i may be able to beat you my hair is bright purple',\n",
              "    'not really i am kind of an introvert',\n",
              "    'well currently i am going to the university of chicago to obtain a law degree',\n",
              "    'also , my parents came with me , because they are on a break from teaching !',\n",
              "    'oh , i am sorry . want to come play tennis with my two sisters and me ?',\n",
              "    'wow ! 2 sons . john and wayne . you play guitar good ?',\n",
              "    'what do you do all day then ?',\n",
              "    'i work from home , what about you ?',\n",
              "    'that is no good . have glasses ?',\n",
              "    'just chilling . watching netflix . so what are you reading ?',\n",
              "    'i love food too . especially fine dining .',\n",
              "    'what do you like to watch ?',\n",
              "    'i do not have to work anymore , thank goodness',\n",
              "    'no , not really . i am in kansas .',\n",
              "    'i love movies . especially disney .',\n",
              "    'no i do not . what kinds of dogs do you have',\n",
              "    \"they won't , but i'll someday . what are you hobbies ?\",\n",
              "    'i am going to watch football . what are you canning ?'],\n",
              "   'history': [\"hi , how are you doing ? i'm getting ready to do some cheetah chasing to stay in shape .\",\n",
              "    'you must be very fast . hunting is one of my favorite hobbies .',\n",
              "    'i am ! for my hobby i like to do canning or some whittling .',\n",
              "    'i also remodel homes when i am not out bow hunting .',\n",
              "    \"that's neat . when i was in high school i placed 6th in 100m dash !\",\n",
              "    \"that's awesome . do you have a favorite season or time of year ?\",\n",
              "    'i do not . but i do have a favorite meat since that is all i eat exclusively .',\n",
              "    'what is your favorite meat to eat ?',\n",
              "    'i would have to say its prime rib . do you have any favorite foods ?',\n",
              "    'i like chicken or macaroni and cheese .',\n",
              "    'do you have anything planned for today ? i think i am going to do some canning .']},\n",
              "  {'candidates': ['awesome . so what do you do for a living ?',\n",
              "    'you are telling the truth lol',\n",
              "    'haha yea i love cookies . i sleep way to much to . you like music ?',\n",
              "    'that is nice to know . i travel due to being financially stable .',\n",
              "    'i am sure you can . california is full of opportunities .',\n",
              "    \"they're fun . i also wanted to be a rock star as i love the music .\",\n",
              "    'you need a hobby something you can do in small segments at night',\n",
              "    'hi , i love halloween , so what do you like to do for fun ?',\n",
              "    'is that a long movie ? few hours ? that is what i spend at the pool',\n",
              "    'tennis sounds interesting ! yes , i am ! how about you ?',\n",
              "    'very well , thank you . how are you today ?',\n",
              "    'i like a cashier at my bank . i stare at her at a distance to flirt .',\n",
              "    'yes . thank you for the chat .',\n",
              "    'that is super sweet , high school sweetheart kind of thing',\n",
              "    'hey . my favorite color is pink . how about you ?',\n",
              "    \"nice ! i don't go out much because i am busy at my accounting job .\",\n",
              "    \"oh my gosh i don't know what i'd do if i had to get a job !\",\n",
              "    'that would still be buying it online !',\n",
              "    'was okay . dog woke me up and just getting ready for a date .',\n",
              "    'if i have time outside of hunting and remodeling homes . which is not much !'],\n",
              "   'history': [\"hi , how are you doing ? i'm getting ready to do some cheetah chasing to stay in shape .\",\n",
              "    'you must be very fast . hunting is one of my favorite hobbies .',\n",
              "    'i am ! for my hobby i like to do canning or some whittling .',\n",
              "    'i also remodel homes when i am not out bow hunting .',\n",
              "    \"that's neat . when i was in high school i placed 6th in 100m dash !\",\n",
              "    \"that's awesome . do you have a favorite season or time of year ?\",\n",
              "    'i do not . but i do have a favorite meat since that is all i eat exclusively .',\n",
              "    'what is your favorite meat to eat ?',\n",
              "    'i would have to say its prime rib . do you have any favorite foods ?',\n",
              "    'i like chicken or macaroni and cheese .',\n",
              "    'do you have anything planned for today ? i think i am going to do some canning .',\n",
              "    'i am going to watch football . what are you canning ?',\n",
              "    'i think i will can some jam . do you also play footfall for fun ?']}]}"
            ]
          },
          "metadata": {
            "tags": []
          },
          "execution_count": 6
        }
      ]
    },
    {
      "cell_type": "markdown",
      "metadata": {
        "id": "MnqV5R7Ai0Ng",
        "colab_type": "text"
      },
      "source": [
        ""
      ]
    },
    {
      "cell_type": "code",
      "metadata": {
        "id": "O6cil-ZfsbPo",
        "colab_type": "code",
        "colab": {}
      },
      "source": [
        "from transformers import OpenAIGPTDoubleHeadsModel, OpenAIGPTTokenizer\n"
      ],
      "execution_count": 0,
      "outputs": []
    },
    {
      "cell_type": "code",
      "metadata": {
        "id": "oi54y7u_KemW",
        "colab_type": "code",
        "outputId": "a4791c91-8290-4122-88fa-f0ccd31280d9",
        "colab": {
          "base_uri": "https://localhost:8080/",
          "height": 319
        }
      },
      "source": [
        "!pip install spacy ftfy"
      ],
      "execution_count": 8,
      "outputs": [
        {
          "output_type": "stream",
          "text": [
            "Requirement already satisfied: spacy in /usr/local/lib/python3.6/dist-packages (2.1.9)\n",
            "Requirement already satisfied: ftfy in /usr/local/lib/python3.6/dist-packages (5.6)\n",
            "Requirement already satisfied: requests<3.0.0,>=2.13.0 in /usr/local/lib/python3.6/dist-packages (from spacy) (2.21.0)\n",
            "Requirement already satisfied: wasabi<1.1.0,>=0.2.0 in /usr/local/lib/python3.6/dist-packages (from spacy) (0.4.2)\n",
            "Requirement already satisfied: thinc<7.1.0,>=7.0.8 in /usr/local/lib/python3.6/dist-packages (from spacy) (7.0.8)\n",
            "Requirement already satisfied: srsly<1.1.0,>=0.0.6 in /usr/local/lib/python3.6/dist-packages (from spacy) (0.2.0)\n",
            "Requirement already satisfied: preshed<2.1.0,>=2.0.1 in /usr/local/lib/python3.6/dist-packages (from spacy) (2.0.1)\n",
            "Requirement already satisfied: numpy>=1.15.0 in /usr/local/lib/python3.6/dist-packages (from spacy) (1.17.4)\n",
            "Requirement already satisfied: plac<1.0.0,>=0.9.6 in /usr/local/lib/python3.6/dist-packages (from spacy) (0.9.6)\n",
            "Requirement already satisfied: cymem<2.1.0,>=2.0.2 in /usr/local/lib/python3.6/dist-packages (from spacy) (2.0.3)\n",
            "Requirement already satisfied: blis<0.3.0,>=0.2.2 in /usr/local/lib/python3.6/dist-packages (from spacy) (0.2.4)\n",
            "Requirement already satisfied: murmurhash<1.1.0,>=0.28.0 in /usr/local/lib/python3.6/dist-packages (from spacy) (1.0.2)\n",
            "Requirement already satisfied: wcwidth in /usr/local/lib/python3.6/dist-packages (from ftfy) (0.1.7)\n",
            "Requirement already satisfied: urllib3<1.25,>=1.21.1 in /usr/local/lib/python3.6/dist-packages (from requests<3.0.0,>=2.13.0->spacy) (1.24.3)\n",
            "Requirement already satisfied: idna<2.9,>=2.5 in /usr/local/lib/python3.6/dist-packages (from requests<3.0.0,>=2.13.0->spacy) (2.8)\n",
            "Requirement already satisfied: chardet<3.1.0,>=3.0.2 in /usr/local/lib/python3.6/dist-packages (from requests<3.0.0,>=2.13.0->spacy) (3.0.4)\n",
            "Requirement already satisfied: certifi>=2017.4.17 in /usr/local/lib/python3.6/dist-packages (from requests<3.0.0,>=2.13.0->spacy) (2019.11.28)\n",
            "Requirement already satisfied: tqdm<5.0.0,>=4.10.0 in /usr/local/lib/python3.6/dist-packages (from thinc<7.1.0,>=7.0.8->spacy) (4.28.1)\n"
          ],
          "name": "stdout"
        }
      ]
    },
    {
      "cell_type": "code",
      "metadata": {
        "id": "Z0Ai4OObsuyM",
        "colab_type": "code",
        "outputId": "03877188-22a3-4259-dcec-a232c00483b4",
        "colab": {
          "base_uri": "https://localhost:8080/",
          "height": 212,
          "referenced_widgets": [
            "e70186be8eb24ebd803b602e45e8c5f8",
            "3b58264c5164461b9b576b74e88def45",
            "49cd6ef1e9c841f8be95c429fca7cf86",
            "8a9b1c1564f04730b20e7a6419565016",
            "57129ae42d96456ca63f85669e1f365a",
            "c4ab2bb4d150416abbf80c01a4f255b9",
            "e609d32c1a934047bf4e3399f99f0a6a",
            "7ff51f1dc5994f2a97658cc5e783a834",
            "5e78c6e805fa4596a972db2790775220",
            "b4db8c744050439e9930cb075df49981",
            "e4a140d160384efd885ab6cba3d37e14",
            "ce00b1d185204ad0b8b80eb63b02a828",
            "78a378b19a54446790a94cf59f4a4a65",
            "f2719cae154744cc97165c33924bf285",
            "74d4d679caa44d06b1a16d315916605c",
            "c52c29130dbf419b9e83a5643f5c9d69",
            "86e34883b26d4aef9d2b9dfa348aff2c",
            "77941dfe2619482383ee2178a028186d",
            "3ce6288e43624b70ba0100341100a020",
            "17895e1e1ca84c19ba4f60d71053dc23",
            "577b1d0531514444ab6040efef349396",
            "13a8099519dd4858900d407996a8dc5e",
            "cfa95a504d75498ba74c46ed6405454d",
            "188240027bc946b6ad2f9ab99b11e39c",
            "289f023e67904d1681c8678b38daee4a",
            "9ebf5a0cd65e430082db09885673a4c2",
            "cae67c5459cc45da8519f33a5cd70675",
            "3b16592e33d8418e9be745b605803943",
            "05fe50c4d7ef41dbb72180ad32dd8be9",
            "844771290c6141549082d57777993199",
            "bd448f3045fd41deb628d0d80b677525",
            "f653443cd7d54b04ad17d2f4013b61bc"
          ]
        }
      },
      "source": [
        "model = OpenAIGPTDoubleHeadsModel.from_pretrained('openai-gpt')\n",
        "tokenizer = OpenAIGPTTokenizer.from_pretrained('openai-gpt')"
      ],
      "execution_count": 9,
      "outputs": [
        {
          "output_type": "display_data",
          "data": {
            "application/vnd.jupyter.widget-view+json": {
              "model_id": "e70186be8eb24ebd803b602e45e8c5f8",
              "version_minor": 0,
              "version_major": 2
            },
            "text/plain": [
              "HBox(children=(IntProgress(value=0, description='Downloading', max=273, style=ProgressStyle(description_width=…"
            ]
          },
          "metadata": {
            "tags": []
          }
        },
        {
          "output_type": "stream",
          "text": [
            "\n"
          ],
          "name": "stdout"
        },
        {
          "output_type": "display_data",
          "data": {
            "application/vnd.jupyter.widget-view+json": {
              "model_id": "5e78c6e805fa4596a972db2790775220",
              "version_minor": 0,
              "version_major": 2
            },
            "text/plain": [
              "HBox(children=(IntProgress(value=0, description='Downloading', max=478750579, style=ProgressStyle(description_…"
            ]
          },
          "metadata": {
            "tags": []
          }
        },
        {
          "output_type": "stream",
          "text": [
            "\n"
          ],
          "name": "stdout"
        },
        {
          "output_type": "display_data",
          "data": {
            "application/vnd.jupyter.widget-view+json": {
              "model_id": "86e34883b26d4aef9d2b9dfa348aff2c",
              "version_minor": 0,
              "version_major": 2
            },
            "text/plain": [
              "HBox(children=(IntProgress(value=0, description='Downloading', max=815973, style=ProgressStyle(description_wid…"
            ]
          },
          "metadata": {
            "tags": []
          }
        },
        {
          "output_type": "stream",
          "text": [
            "\n"
          ],
          "name": "stdout"
        },
        {
          "output_type": "display_data",
          "data": {
            "application/vnd.jupyter.widget-view+json": {
              "model_id": "289f023e67904d1681c8678b38daee4a",
              "version_minor": 0,
              "version_major": 2
            },
            "text/plain": [
              "HBox(children=(IntProgress(value=0, description='Downloading', max=458495, style=ProgressStyle(description_wid…"
            ]
          },
          "metadata": {
            "tags": []
          }
        },
        {
          "output_type": "stream",
          "text": [
            "\n"
          ],
          "name": "stdout"
        }
      ]
    },
    {
      "cell_type": "code",
      "metadata": {
        "id": "chPc9HNJKOmA",
        "colab_type": "code",
        "outputId": "7f689c6b-10e3-4b0f-beda-aabc8ed1e7dd",
        "colab": {
          "base_uri": "https://localhost:8080/",
          "height": 202
        }
      },
      "source": [
        "tokenizer.tokenize('Welcome to Garage4Hackers meetup')"
      ],
      "execution_count": 10,
      "outputs": [
        {
          "output_type": "execute_result",
          "data": {
            "text/plain": [
              "['welcome</w>',\n",
              " 'to</w>',\n",
              " 'gar',\n",
              " 'ag',\n",
              " 'e',\n",
              " '4',\n",
              " 'ha',\n",
              " 'ckers</w>',\n",
              " 'mee',\n",
              " 't',\n",
              " 'up</w>']"
            ]
          },
          "metadata": {
            "tags": []
          },
          "execution_count": 10
        }
      ]
    },
    {
      "cell_type": "code",
      "metadata": {
        "id": "uRAI3unaKx0-",
        "colab_type": "code",
        "outputId": "9284167f-77b9-4654-c102-005632594272",
        "colab": {
          "base_uri": "https://localhost:8080/",
          "height": 54
        }
      },
      "source": [
        "\"\"\" import json\n",
        "from transformers import cached_path\n",
        "\n",
        "url = \"https://s3.amazonaws.com/datasets.huggingface.co/personachat/personachat_self_original.json\"\n",
        "\n",
        "# Download and load JSON dataset\n",
        "personachat_file = cached_path(url)\n",
        "with open(personachat_file, \"r\", encoding=\"utf-8\") as f:\n",
        "    dataset = json.loads(f.read())\n",
        "\n",
        "# Tokenize and encode the dataset using our loaded GPT tokenizer\n",
        "def tokenize(obj):\n",
        "    if isinstance(obj, str):\n",
        "        return tokenizer.convert_tokens_to_ids(tokenizer.tokenize(obj))\n",
        "    if isinstance(obj, dict):\n",
        "        return dict((n, tokenize(o)) for n, o in obj.items())\n",
        "    return list(tokenize(o) for o in obj)\n",
        " \n",
        "dataset = tokenize(dataset) \"\"\""
      ],
      "execution_count": 29,
      "outputs": [
        {
          "output_type": "execute_result",
          "data": {
            "text/plain": [
              "' import json\\nfrom transformers import cached_path\\n\\nurl = \"https://s3.amazonaws.com/datasets.huggingface.co/personachat/personachat_self_original.json\"\\n\\n# Download and load JSON dataset\\npersonachat_file = cached_path(url)\\nwith open(personachat_file, \"r\", encoding=\"utf-8\") as f:\\n    dataset = json.loads(f.read())\\n\\n# Tokenize and encode the dataset using our loaded GPT tokenizer\\ndef tokenize(obj):\\n    if isinstance(obj, str):\\n        return tokenizer.convert_tokens_to_ids(tokenizer.tokenize(obj))\\n    if isinstance(obj, dict):\\n        return dict((n, tokenize(o)) for n, o in obj.items())\\n    return list(tokenize(o) for o in obj)\\n \\ndataset = tokenize(dataset) '"
            ]
          },
          "metadata": {
            "tags": []
          },
          "execution_count": 29
        }
      ]
    },
    {
      "cell_type": "code",
      "metadata": {
        "id": "kaWC3Gej-2V5",
        "colab_type": "code",
        "colab": {}
      },
      "source": [
        ""
      ],
      "execution_count": 0,
      "outputs": []
    },
    {
      "cell_type": "code",
      "metadata": {
        "id": "ZCQx1XaNt7FE",
        "colab_type": "code",
        "outputId": "6f115c5d-3317-4f15-e874-d5a4ec213a88",
        "colab": {
          "base_uri": "https://localhost:8080/",
          "height": 185
        }
      },
      "source": [
        "!git clone https://gitlab.com/bofinbabu/conv-ai.git"
      ],
      "execution_count": 22,
      "outputs": [
        {
          "output_type": "stream",
          "text": [
            "Cloning into 'conv-ai'...\n",
            "remote: \rremote:                                                                                 \u001b[K\rremote: Enumerating objects: 6, done.\u001b[K\n",
            "remote: \rremote:                                                                                 \u001b[K\rremote: Counting objects:  16% (1/6)\u001b[K\rremote: \rremote:                                                                                 \u001b[K\rremote: Counting objects:  33% (2/6)\u001b[K\rremote: \rremote:                                                                                 \u001b[K\rremote: Counting objects:  50% (3/6)\u001b[K\rremote: \rremote:                                                                                 \u001b[K\rremote: Counting objects:  66% (4/6)\u001b[K\rremote: \rremote:                                                                                 \u001b[K\rremote: Counting objects:  83% (5/6)\u001b[K\rremote: \rremote:                                                                                 \u001b[K\rremote: Counting objects: 100% (6/6)\u001b[K\rremote: \rremote:                                                                                 \u001b[K\rremote: Counting objects: 100% (6/6), done.\u001b[K\n",
            "remote: Compressing objects: 100% (6/6), done.\u001b[K\n",
            "hi there\n",
            "lol\n",
            "remote: Total 112 (delta 1), reused 0 (delta 0)\u001b[K\n",
            "Receiving objects: 100% (112/112), 62.09 MiB | 3.23 MiB/s, done.\n",
            "Resolving deltas: 100% (59/59), done.\n",
            "Checking out files: 100% (12/12), done.\n"
          ],
          "name": "stdout"
        }
      ]
    },
    {
      "cell_type": "code",
      "metadata": {
        "id": "FHKEKQua_VVn",
        "colab_type": "code",
        "outputId": "bd800127-ae32-49ad-da5a-ed8392d6897a",
        "colab": {
          "base_uri": "https://localhost:8080/",
          "height": 34
        }
      },
      "source": [
        "!cd conv-ai && git pull"
      ],
      "execution_count": 23,
      "outputs": [
        {
          "output_type": "stream",
          "text": [
            "Already up to date.\n"
          ],
          "name": "stdout"
        }
      ]
    },
    {
      "cell_type": "code",
      "metadata": {
        "id": "dR9nYNLtkR_c",
        "colab_type": "code",
        "colab": {
          "base_uri": "https://localhost:8080/",
          "height": 34
        },
        "outputId": "5d9e74d9-6694-4708-f521-115ec6ae92d0"
      },
      "source": [
        "!cp dataset_cache_OpenAIGPTTokenizer /transfer-learning-conv-ai"
      ],
      "execution_count": 24,
      "outputs": [
        {
          "output_type": "stream",
          "text": [
            "cp: cannot stat 'dataset_cache_OpenAIGPTTokenizer': No such file or directory\n"
          ],
          "name": "stdout"
        }
      ]
    },
    {
      "cell_type": "code",
      "metadata": {
        "id": "f49Ek4aX-35A",
        "colab_type": "code",
        "outputId": "9c86c70e-970a-442c-c9ac-dc8c546eb6b7",
        "colab": {
          "base_uri": "https://localhost:8080/",
          "height": 1000
        }
      },
      "source": [
        "!cd conv-ai && python interact.py"
      ],
      "execution_count": 25,
      "outputs": [
        {
          "output_type": "stream",
          "text": [
            "INFO:interact.py:Namespace(dataset_cache='./dataset_cache', dataset_path='', device='cuda', max_history=2, max_length=20, min_length=1, model='openai-gpt', model_checkpoint='', no_sample=False, seed=0, temperature=0.7, top_k=0, top_p=0.9)\n",
            "INFO:transformers.file_utils:https://s3.amazonaws.com/models.huggingface.co/transfer-learning-chatbot/gpt_personachat_cache.tar.gz not found in cache or force_download set to True, downloading to /tmp/tmpg68n6cq9\n",
            "Downloading: 100% 434M/434M [00:12<00:00, 34.2MB/s]\n",
            "INFO:transformers.file_utils:copying /tmp/tmpg68n6cq9 to cache at /root/.cache/torch/transformers/2f5114b5eb72f9515802779c42c1b289bebdb1cfc8ce94c653237518eb530b34.75f2a4fe69178ff43138117a977e107a5fc7d402603a0825a296b531f246b3f2\n",
            "INFO:transformers.file_utils:creating metadata file for /root/.cache/torch/transformers/2f5114b5eb72f9515802779c42c1b289bebdb1cfc8ce94c653237518eb530b34.75f2a4fe69178ff43138117a977e107a5fc7d402603a0825a296b531f246b3f2\n",
            "INFO:transformers.file_utils:removing temp file /tmp/tmpg68n6cq9\n",
            "INFO:/content/conv-ai/utils.py:extracting archive file /root/.cache/torch/transformers/2f5114b5eb72f9515802779c42c1b289bebdb1cfc8ce94c653237518eb530b34.75f2a4fe69178ff43138117a977e107a5fc7d402603a0825a296b531f246b3f2 to temp dir /tmp/tmpwetf3eca\n",
            "INFO:interact.py:Get pretrained model and tokenizer\n",
            "INFO:transformers.tokenization_utils:Model name '/tmp/tmpwetf3eca' not found in model shortcut name list (openai-gpt). Assuming '/tmp/tmpwetf3eca' is a path or url to a directory containing tokenizer files.\n",
            "INFO:transformers.tokenization_utils:Didn't find file /tmp/tmpwetf3eca/special_tokens_map.json. We won't load it.\n",
            "INFO:transformers.tokenization_utils:Didn't find file /tmp/tmpwetf3eca/tokenizer_config.json. We won't load it.\n",
            "INFO:transformers.tokenization_utils:loading file /tmp/tmpwetf3eca/vocab.json\n",
            "INFO:transformers.tokenization_utils:loading file /tmp/tmpwetf3eca/merges.txt\n",
            "INFO:transformers.tokenization_utils:loading file /tmp/tmpwetf3eca/added_tokens.json\n",
            "INFO:transformers.tokenization_utils:loading file None\n",
            "INFO:transformers.tokenization_utils:loading file None\n",
            "INFO:transformers.configuration_utils:loading configuration file /tmp/tmpwetf3eca/config.json\n",
            "INFO:transformers.configuration_utils:Model config {\n",
            "  \"afn\": \"gelu\",\n",
            "  \"attn_pdrop\": 0.1,\n",
            "  \"embd_pdrop\": 0.1,\n",
            "  \"finetuning_task\": null,\n",
            "  \"initializer_range\": 0.02,\n",
            "  \"is_decoder\": false,\n",
            "  \"layer_norm_epsilon\": 1e-05,\n",
            "  \"n_ctx\": 512,\n",
            "  \"n_embd\": 768,\n",
            "  \"n_head\": 12,\n",
            "  \"n_layer\": 12,\n",
            "  \"n_positions\": 512,\n",
            "  \"n_special\": 5,\n",
            "  \"num_labels\": 1,\n",
            "  \"output_attentions\": false,\n",
            "  \"output_hidden_states\": false,\n",
            "  \"output_past\": true,\n",
            "  \"predict_special_tokens\": true,\n",
            "  \"pruned_heads\": {},\n",
            "  \"resid_pdrop\": 0.1,\n",
            "  \"summary_activation\": null,\n",
            "  \"summary_first_dropout\": 0.1,\n",
            "  \"summary_proj_to_labels\": true,\n",
            "  \"summary_type\": \"cls_index\",\n",
            "  \"summary_use_proj\": true,\n",
            "  \"torchscript\": false,\n",
            "  \"use_bfloat16\": false,\n",
            "  \"vocab_size\": 40483\n",
            "}\n",
            "\n",
            "INFO:transformers.modeling_utils:loading weights file /tmp/tmpwetf3eca/pytorch_model.bin\n",
            "INFO:transformers.modeling_utils:Weights from pretrained model not used in OpenAIGPTLMHeadModel: ['multiple_choice_head.summary.weight', 'multiple_choice_head.summary.bias']\n",
            "INFO:transformers.tokenization_utils:Assigning <bos> to the bos_token key of the tokenizer\n",
            "INFO:transformers.tokenization_utils:Assigning <eos> to the eos_token key of the tokenizer\n",
            "INFO:transformers.tokenization_utils:Assigning <pad> to the pad_token key of the tokenizer\n",
            "INFO:transformers.tokenization_utils:Assigning ('<speaker1>', '<speaker2>') to the additional_special_tokens key of the tokenizer\n",
            "INFO:interact.py:Sample a personality\n",
            "INFO:/content/conv-ai/utils.py:Load tokenized dataset from cache at ./dataset_cache_OpenAIGPTTokenizer\n",
            "INFO:interact.py:Selected personality: i hate red meat. i love to surf. i live near the ocean. my hair is brown and curly.\n",
            ">>> hi there\n",
            "hello. how are you?\n",
            ">>> I'm dead\n",
            "oh. i'm sorry. what happened?\n",
            ">>> you idiot\n",
            "i am fine. i just got a hair cut.\n",
            ">>> fuck off\n",
            "i was trying to surf. do you like to surf?\n",
            ">>> lol\n",
            "no, but i do enjoy it\n",
            ">>> lol\n",
            "i just got a haircut.\n",
            ">>> lol\n",
            "i have brown hair so i like to surf\n",
            ">>> lol\n",
            "i love to surf\n",
            ">>> haha\n",
            "i live near the ocean\n",
            ">>> what do I do?\n",
            "i live near the ocean\n",
            ">>> ok\n",
            "i live near the ocean\n",
            ">>> get lost\n",
            "what do you do?\n",
            ">>> sleep\n",
            "i live by the ocean\n",
            ">>> \n"
          ],
          "name": "stdout"
        }
      ]
    },
    {
      "cell_type": "code",
      "metadata": {
        "id": "Z_u5eFqTlAlW",
        "colab_type": "code",
        "colab": {}
      },
      "source": [
        ""
      ],
      "execution_count": 0,
      "outputs": []
    },
    {
      "cell_type": "code",
      "metadata": {
        "id": "j1mHfxbhus2_",
        "colab_type": "code",
        "outputId": "b094d490-cb19-4ef5-a3d5-721730078406",
        "colab": {
          "base_uri": "https://localhost:8080/",
          "height": 67
        }
      },
      "source": [
        "!pip install pytorch-ignite"
      ],
      "execution_count": 26,
      "outputs": [
        {
          "output_type": "stream",
          "text": [
            "Requirement already satisfied: pytorch-ignite in /usr/local/lib/python3.6/dist-packages (0.2.1)\n",
            "Requirement already satisfied: torch in /usr/local/lib/python3.6/dist-packages (from pytorch-ignite) (1.3.1)\n",
            "Requirement already satisfied: numpy in /usr/local/lib/python3.6/dist-packages (from torch->pytorch-ignite) (1.17.4)\n"
          ],
          "name": "stdout"
        }
      ]
    },
    {
      "cell_type": "code",
      "metadata": {
        "id": "zfZPwrNIt7wU",
        "colab_type": "code",
        "outputId": "928fff77-c012-4bf8-cb65-adc06ba21d89",
        "colab": {
          "base_uri": "https://localhost:8080/",
          "height": 34
        }
      },
      "source": [
        "!ls"
      ],
      "execution_count": 27,
      "outputs": [
        {
          "output_type": "stream",
          "text": [
            "conv-ai  sample_data\n"
          ],
          "name": "stdout"
        }
      ]
    },
    {
      "cell_type": "code",
      "metadata": {
        "id": "ZCTg73GfuMJo",
        "colab_type": "code",
        "outputId": "8fb990c8-eb81-45fe-df32-b338d9918f8d",
        "colab": {
          "base_uri": "https://localhost:8080/",
          "height": 151
        }
      },
      "source": [
        "!cd conv-ai && python interact.py dataset_cache="
      ],
      "execution_count": 28,
      "outputs": [
        {
          "output_type": "stream",
          "text": [
            "usage: interact.py [-h] [--dataset_path DATASET_PATH]\n",
            "                   [--dataset_cache DATASET_CACHE] [--model {openai-gpt,gpt2}]\n",
            "                   [--model_checkpoint MODEL_CHECKPOINT]\n",
            "                   [--max_history MAX_HISTORY] [--device DEVICE] [--no_sample]\n",
            "                   [--max_length MAX_LENGTH] [--min_length MIN_LENGTH]\n",
            "                   [--seed SEED] [--temperature TEMPERATURE] [--top_k TOP_K]\n",
            "                   [--top_p TOP_P]\n",
            "interact.py: error: unrecognized arguments: dataset_cache=\n"
          ],
          "name": "stdout"
        }
      ]
    },
    {
      "cell_type": "code",
      "metadata": {
        "id": "3WoH3oSluUcC",
        "colab_type": "code",
        "colab": {}
      },
      "source": [
        ""
      ],
      "execution_count": 0,
      "outputs": []
    }
  ]
}